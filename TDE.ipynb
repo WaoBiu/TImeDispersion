{
 "cells": [
  {
   "cell_type": "code",
   "execution_count": 1,
   "id": "52f550c2",
   "metadata": {},
   "outputs": [],
   "source": [
    "import numpy as np\n",
    "import matplotlib.pyplot as plt\n",
    "from math import pi, exp, sin\n",
    "from scipy import fft"
   ]
  },
  {
   "cell_type": "code",
   "execution_count": 2,
   "id": "16c523a3",
   "metadata": {},
   "outputs": [],
   "source": [
    "def sinc(x):\n",
    "    if x == 0:\n",
    "        return 1\n",
    "    else:\n",
    "        return sin(x)/x"
   ]
  },
  {
   "cell_type": "code",
   "execution_count": 3,
   "id": "ea22691a",
   "metadata": {},
   "outputs": [],
   "source": [
    "def Source_Correctiion(original_time_array, original_dt, original_source_array, correction_time_array, correction_dt):\n",
    "    # Forward Transform\n",
    "    \n",
    "    omega_range =  pi / original_dt\n",
    "    omega_array = np.linspace(-omega_range, omega_range, original_time_array.size+1)\n",
    "    domega = 2 * pi / (original_dt * original_time_array.size)\n",
    "    \n",
    "    aux_array = np.zeros(omega_array.size, dtype=complex)\n",
    "    for index, item in enumerate(omega_array):\n",
    "        tmp = np.exp(complex(0,1) * item * sinc(item * original_dt * 0.5) * original_time_array) * original_source_array * original_dt\n",
    "        aux_array[index] = tmp.sum()\n",
    "        \n",
    "    # Inverse Transform\n",
    "    correction_vibration_array = np.zeros(correction_time_array.size, dtype=complex)\n",
    "    \n",
    "    for index, item in enumerate(correction_time_array):\n",
    "        tmp = np.exp(-1 * complex(0,1) * omega_array * item) * aux_array * domega\n",
    "        correction_vibration_array[index] = tmp.sum()\n",
    "        \n",
    "    correction_vibration_array = correction_vibration_array.real * 0.5 / pi\n",
    "    \n",
    "    return correction_vibration_array"
   ]
  },
  {
   "cell_type": "code",
   "execution_count": 4,
   "id": "d1f33f0e",
   "metadata": {},
   "outputs": [],
   "source": [
    "def Wave_Correctiion(original_time_array, original_dt, original_source_array, correction_time_array, correction_dt):\n",
    "    # Forward Transform\n",
    "    \n",
    "    omega_range =  pi / original_dt\n",
    "    omega_array = np.linspace(-omega_range, omega_range, original_time_array.size+1)\n",
    "    domega = 2 * pi / (original_dt * original_time_array.size)\n",
    "    \n",
    "    aux_array = np.zeros(omega_array.size, dtype=complex)\n",
    "    for index, item in enumerate(omega_array):\n",
    "        tmp = np.exp(complex(0,1) * item * sinc(item * original_dt * 0.5) * original_time_array) * original_source_array * original_dt\n",
    "        aux_array[index] = tmp.sum()\n",
    "        \n",
    "    # Inverse Transform\n",
    "    correction_vibration_array = np.zeros(correction_time_array.size, dtype=complex)\n",
    "    \n",
    "    for index, item in enumerate(correction_time_array):\n",
    "        tmp = np.exp(-1 * complex(0,1) * omega_array * item) * aux_array * domega * np.cos(omega_array * original_dt * 0.5)\n",
    "        correction_vibration_array[index] = tmp.sum()\n",
    "        \n",
    "    correction_vibration_array = correction_vibration_array.real * 0.5 / pi\n",
    "    \n",
    "    return correction_vibration_array"
   ]
  },
  {
   "cell_type": "code",
   "execution_count": null,
   "id": "2b1ee69b",
   "metadata": {},
   "outputs": [],
   "source": []
  }
 ],
 "metadata": {
  "kernelspec": {
   "display_name": "Python 3",
   "language": "python",
   "name": "python3"
  },
  "language_info": {
   "codemirror_mode": {
    "name": "ipython",
    "version": 3
   },
   "file_extension": ".py",
   "mimetype": "text/x-python",
   "name": "python",
   "nbconvert_exporter": "python",
   "pygments_lexer": "ipython3",
   "version": "3.8.8"
  }
 },
 "nbformat": 4,
 "nbformat_minor": 5
}
