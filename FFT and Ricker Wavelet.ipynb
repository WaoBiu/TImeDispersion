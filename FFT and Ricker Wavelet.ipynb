{
 "cells": [
  {
   "cell_type": "code",
   "execution_count": 1,
   "id": "234cdc50",
   "metadata": {},
   "outputs": [],
   "source": [
    "import numpy as np\n",
    "import matplotlib.pyplot as plt\n",
    "from scipy  import fft\n",
    "from math import pi, exp"
   ]
  },
  {
   "cell_type": "code",
   "execution_count": 9,
   "id": "e4b01a62",
   "metadata": {},
   "outputs": [],
   "source": [
    "c = 2000\n",
    "f_m = 30\n",
    "t_0 = 0.1\n",
    "dt = 0.002\n",
    "dx = 10"
   ]
  },
  {
   "cell_type": "code",
   "execution_count": 10,
   "id": "2fadfbe7",
   "metadata": {},
   "outputs": [],
   "source": [
    "source_time_array = np.arange(0, 0.2 + 0.001, 0.001)\n",
    "source_array = (1 - 2 * (pi * f_m * (source_time_array-t_0))**2) \\\n",
    "                * np.exp(-1 * ( pi * f_m * (source_time_array-t_0))**2)\n",
    "source_time_derivative = 1 * (-4 * (pi * f_m * (source_time_array-t_0)) * pi * f_m * \\\n",
    "                         np.exp(-1 * ( pi * f_m * (source_time_array-t_0))**2) + \\\n",
    "                         (1 - 2 * (pi * f_m * (source_time_array-t_0))**2) * \\\n",
    "                         np.exp(-1 * ( pi * f_m * (source_time_array-t_0))**2) * \\\n",
    "                            -2 * (pi * f_m * (source_time_array-t_0)) * pi * f_m)"
   ]
  },
  {
   "cell_type": "code",
   "execution_count": 11,
   "id": "0eaa76a2",
   "metadata": {},
   "outputs": [
    {
     "data": {
      "image/png": "[encoded data removed]",
      "text/plain": [
       "<Figure size 432x288 with 1 Axes>"
      ]
     },
     "metadata": {
      "needs_background": "light"
     },
     "output_type": "display_data"
    }
   ],
   "source": [
    "plt.plot(source_array)\n",
    "plt.title('Wavelet')\n",
    "plt.show()"
   ]
  },
  {
   "cell_type": "code",
   "execution_count": 30,
   "id": "8a6966f5",
   "metadata": {
    "scrolled": false
   },
   "outputs": [
    {
     "data": {
      "image/png": "[encoded data removed]",
      "text/plain": [
       "<Figure size 432x288 with 1 Axes>"
      ]
     },
     "metadata": {
      "needs_background": "light"
     },
     "output_type": "display_data"
    }
   ],
   "source": [
    "source_array_fft = np.fft.fft(source_array)\n",
    "omega_array = np.arange(0, source_time_array.size, 1) * 1000 / 200\n",
    "plt.plot(omega_array[0:21], np.abs(source_array_fft[0:21].real))\n",
    "plt.show()"
   ]
  },
  {
   "cell_type": "code",
   "execution_count": 15,
   "id": "72277355",
   "metadata": {},
   "outputs": [
    {
     "name": "stdout",
     "output_type": "stream",
     "text": [
      "(array([6], dtype=int64),)\n"
     ]
    }
   ],
   "source": [
    "print(np.where(source_array_fft==np.max(source_array_fft)))"
   ]
  },
  {
   "cell_type": "code",
   "execution_count": null,
   "id": "e7eff140",
   "metadata": {},
   "outputs": [],
   "source": [
    "print()"
   ]
  },
  {
   "cell_type": "code",
   "execution_count": 2,
   "id": "13fe21e7",
   "metadata": {},
   "outputs": [],
   "source": [
    "a = np.array([[1,2,3,4,5,6,7,8,9,10],\n",
    "              [1,2,3,4,5,6,7,8,9,10],\n",
    "              [1,2,3,4,5,6,7,8,9,10],\n",
    "              [1,2,3,4,5,6,7,8,9,10],\n",
    "              [1,2,3,4,5,6,7,8,9,10],\n",
    "              [1,2,3,4,5,6,7,8,9,10],\n",
    "              [1,2,3,4,5,6,7,8,9,10],\n",
    "              [1,2,3,4,5,6,7,8,9,10],\n",
    "              [1,2,3,4,5,6,7,8,9,10],\n",
    "              [1,2,3,4,5,6,7,8,9,10]])"
   ]
  },
  {
   "cell_type": "code",
   "execution_count": 3,
   "id": "ee2ea8fb",
   "metadata": {},
   "outputs": [
    {
     "name": "stdout",
     "output_type": "stream",
     "text": [
      "[[ 1  2  3  4  5  6  7  8  9 10]\n",
      " [ 1  2  3  4  5  6  7  8  9 10]\n",
      " [ 1  2  3  4  5  6  7  8  9 10]\n",
      " [ 1  2  3  4  5  6  7  8  9 10]\n",
      " [ 1  2  3  4  5  6  7  8  9 10]\n",
      " [ 1  2  3  4  5  6  7  8  9 10]\n",
      " [ 1  2  3  4  5  6  7  8  9 10]\n",
      " [ 1  2  3  4  5  6  7  8  9 10]\n",
      " [ 1  2  3  4  5  6  7  8  9 10]\n",
      " [ 1  2  3  4  5  6  7  8  9 10]]\n"
     ]
    }
   ],
   "source": [
    "print(a)"
   ]
  },
  {
   "cell_type": "code",
   "execution_count": 4,
   "id": "5b77c3fd",
   "metadata": {},
   "outputs": [],
   "source": [
    "b = np.fft.fft(a)"
   ]
  },
  {
   "cell_type": "code",
   "execution_count": 6,
   "id": "d11d56f9",
   "metadata": {},
   "outputs": [
    {
     "name": "stdout",
     "output_type": "stream",
     "text": [
      "[[55. -5. -5. -5. -5. -5. -5. -5. -5. -5.]\n",
      " [55. -5. -5. -5. -5. -5. -5. -5. -5. -5.]\n",
      " [55. -5. -5. -5. -5. -5. -5. -5. -5. -5.]\n",
      " [55. -5. -5. -5. -5. -5. -5. -5. -5. -5.]\n",
      " [55. -5. -5. -5. -5. -5. -5. -5. -5. -5.]\n",
      " [55. -5. -5. -5. -5. -5. -5. -5. -5. -5.]\n",
      " [55. -5. -5. -5. -5. -5. -5. -5. -5. -5.]\n",
      " [55. -5. -5. -5. -5. -5. -5. -5. -5. -5.]\n",
      " [55. -5. -5. -5. -5. -5. -5. -5. -5. -5.]\n",
      " [55. -5. -5. -5. -5. -5. -5. -5. -5. -5.]]\n"
     ]
    }
   ],
   "source": [
    "print(b.real)"
   ]
  }
 ],
 "metadata": {
  "kernelspec": {
   "display_name": "Python 3",
   "language": "python",
   "name": "python3"
  },
  "language_info": {
   "codemirror_mode": {
    "name": "ipython",
    "version": 3
   },
   "file_extension": ".py",
   "mimetype": "text/x-python",
   "name": "python",
   "nbconvert_exporter": "python",
   "pygments_lexer": "ipython3",
   "version": "3.8.8"
  }
 },
 "nbformat": 4,
 "nbformat_minor": 5
}
